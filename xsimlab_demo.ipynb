{
 "cells": [
  {
   "cell_type": "markdown",
   "metadata": {},
   "source": [
    "# Xarray-simlab showcase"
   ]
  },
  {
   "cell_type": "code",
   "execution_count": null,
   "metadata": {},
   "outputs": [],
   "source": [
    "import numpy as np\n",
    "import xsimlab as xs"
   ]
  },
  {
   "cell_type": "markdown",
   "metadata": {},
   "source": [
    "Let's import a xarray-simlab model from the fastscape library (https://github.com/fastscape-lem/fastscape)"
   ]
  },
  {
   "cell_type": "code",
   "execution_count": null,
   "metadata": {},
   "outputs": [],
   "source": [
    "from fastscape.models import sediment_model"
   ]
  },
  {
   "cell_type": "markdown",
   "metadata": {},
   "source": [
    "## Model inspection"
   ]
  },
  {
   "cell_type": "code",
   "execution_count": null,
   "metadata": {},
   "outputs": [],
   "source": [
    "sediment_model"
   ]
  },
  {
   "cell_type": "code",
   "execution_count": null,
   "metadata": {},
   "outputs": [],
   "source": [
    "sediment_model.visualize()"
   ]
  },
  {
   "cell_type": "markdown",
   "metadata": {},
   "source": [
    "## Model customization "
   ]
  },
  {
   "cell_type": "code",
   "execution_count": null,
   "metadata": {},
   "outputs": [],
   "source": [
    "from fastscape.processes import Escarpment\n",
    "\n",
    "model = (\n",
    "    sediment_model\n",
    "    .update_processes({'init_topography': Escarpment})\n",
    "    .drop_processes(['diffusion', 'uplift'])\n",
    ")"
   ]
  },
  {
   "cell_type": "code",
   "execution_count": null,
   "metadata": {},
   "outputs": [],
   "source": [
    "model"
   ]
  },
  {
   "cell_type": "markdown",
   "metadata": {},
   "source": [
    "## Simulation setup"
   ]
  },
  {
   "cell_type": "code",
   "execution_count": null,
   "metadata": {},
   "outputs": [],
   "source": [
    "%load_ext xsimlab.ipython"
   ]
  },
  {
   "cell_type": "code",
   "execution_count": null,
   "metadata": {
    "jupyter": {
     "source_hidden": true
    },
    "tags": []
   },
   "outputs": [],
   "source": [
    "# %create_setup model -v -d\n",
    "import xsimlab as xs\n",
    "\n",
    "ds_in = xs.create_setup(\n",
    "    model=model,\n",
    "    clocks={},\n",
    "    input_vars={\n",
    "        # nb. of grid nodes in (y, x)\n",
    "        'grid__shape': ,\n",
    "        # total grid length in (y, x)\n",
    "        'grid__length': ,\n",
    "        # node status at borders\n",
    "        'boundary__status': 'fixed_value',\n",
    "        # location of the scarp's left limit on the x-axis\n",
    "        'init_topography__x_left': ,\n",
    "        # location of the scarp's right limit on the x-axis\n",
    "        'init_topography__x_right': ,\n",
    "        # elevation on the left side of the scarp\n",
    "        'init_topography__elevation_left': ,\n",
    "        # elevation on the right side of the scarp\n",
    "        'init_topography__elevation_right': ,\n",
    "        # MFD partioner slope exponent\n",
    "        'flow__slope_exp': 0.0,\n",
    "        # drainage area exponent\n",
    "        'spl__area_exp': 0.4,\n",
    "        # slope exponent\n",
    "        'spl__slope_exp': 1,\n",
    "        # bedrock channel incision coefficient\n",
    "        'spl__k_coef_bedrock': ,\n",
    "        # soil (sediment) channel incision coefficient\n",
    "        'spl__k_coef_soil': ,\n",
    "        # detached bedrock transport/deposition coefficient\n",
    "        'spl__g_coef_bedrock': ,\n",
    "        # soil (sediment) transport/deposition coefficient\n",
    "        'spl__g_coef_soil': ,\n",
    "    },\n",
    "    output_vars={}\n",
    ")\n"
   ]
  },
  {
   "cell_type": "code",
   "execution_count": null,
   "metadata": {
    "tags": []
   },
   "outputs": [],
   "source": [
    "# %create_setup model -v -d\n",
    "import xsimlab as xs\n",
    "\n",
    "ds_in = xs.create_setup(\n",
    "    model=model,\n",
    "    clocks={\n",
    "        'time': np.linspace(0, 4e5, 201),\n",
    "        'out': np.linspace(0, 4e5, 101),\n",
    "    },\n",
    "    master_clock='time',\n",
    "    input_vars={\n",
    "        # nb. of grid nodes in (y, x)\n",
    "        'grid__shape': [101, 201],\n",
    "        # total grid length in (y, x)\n",
    "        'grid__length': [1e4, 2e4],\n",
    "        # node status at borders\n",
    "        'boundary__status': ['fixed_value', 'core', 'looped', 'looped'],\n",
    "        # location of the scarp's left limit on the x-axis\n",
    "        'init_topography__x_left': 1e4,\n",
    "        # location of the scarp's right limit on the x-axis\n",
    "        'init_topography__x_right': 1e4,\n",
    "        # elevation on the left side of the scarp\n",
    "        'init_topography__elevation_left': 0.,\n",
    "        # elevation on the right side of the scarp\n",
    "        'init_topography__elevation_right': 1e3,\n",
    "        # MFD partioner slope exponent\n",
    "        'flow__slope_exp': 1.0,\n",
    "        # drainage area exponent\n",
    "        'spl__area_exp': 0.4,\n",
    "        # slope exponent\n",
    "        'spl__slope_exp': 1,\n",
    "        # bedrock channel incision coefficient\n",
    "        'spl__k_coef_bedrock': 1e-4,\n",
    "        # soil (sediment) channel incision coefficient\n",
    "        'spl__k_coef_soil': 1e-4,\n",
    "        # detached bedrock transport/deposition coefficient\n",
    "        'spl__g_coef_bedrock': 0.5,\n",
    "        # soil (sediment) transport/deposition coefficient\n",
    "        'spl__g_coef_soil': 0.5,\n",
    "    },\n",
    "    output_vars={\n",
    "        'topography__elevation': 'out',\n",
    "        'erosion__rate': 'out',\n",
    "        'drainage__area': 'out',\n",
    "    }\n",
    ")\n"
   ]
  },
  {
   "cell_type": "code",
   "execution_count": null,
   "metadata": {},
   "outputs": [],
   "source": [
    "ds_in"
   ]
  },
  {
   "cell_type": "markdown",
   "metadata": {},
   "source": [
    "## Model run"
   ]
  },
  {
   "cell_type": "code",
   "execution_count": null,
   "metadata": {},
   "outputs": [],
   "source": [
    "with xs.monitoring.ProgressBar():\n",
    "    ds_out = ds_in.xsimlab.run(model=model)"
   ]
  },
  {
   "cell_type": "code",
   "execution_count": null,
   "metadata": {},
   "outputs": [],
   "source": [
    "ds_out"
   ]
  },
  {
   "cell_type": "markdown",
   "metadata": {},
   "source": [
    "## Model output visualization"
   ]
  },
  {
   "cell_type": "code",
   "execution_count": null,
   "metadata": {},
   "outputs": [],
   "source": [
    "(ds_out\n",
    " .topography__elevation\n",
    " .isel(out=range(0, 45, 5))\n",
    " .plot.pcolormesh('x', 'y', col='out', col_wrap=3, aspect=2, cmap='cividis')\n",
    ");"
   ]
  },
  {
   "cell_type": "code",
   "execution_count": null,
   "metadata": {},
   "outputs": [],
   "source": [
    "import hvplot.xarray"
   ]
  },
  {
   "cell_type": "code",
   "execution_count": null,
   "metadata": {},
   "outputs": [],
   "source": [
    "ds_out.topography__elevation.hvplot.image(x='x', y='y', groupby='out', cmap='cividis', data_aspect=1)"
   ]
  },
  {
   "cell_type": "code",
   "execution_count": null,
   "metadata": {},
   "outputs": [],
   "source": [
    "from ipyfastscape import TopoViz3d"
   ]
  },
  {
   "cell_type": "code",
   "execution_count": null,
   "metadata": {},
   "outputs": [],
   "source": [
    "app = TopoViz3d(ds_out, time_dim='out')\n",
    "app.components['coloring'].set_color_var('drainage__area')\n",
    "app.components['coloring'].set_colormap('Blues')\n",
    "app.components['coloring'].set_color_scale(log=True)\n",
    "app.components['vertical_exaggeration'].set_factor(3)\n",
    "app.show()"
   ]
  },
  {
   "cell_type": "code",
   "execution_count": null,
   "metadata": {},
   "outputs": [],
   "source": [
    "app.widget.close()"
   ]
  },
  {
   "cell_type": "markdown",
   "metadata": {},
   "source": [
    "## Sensitivity analysis"
   ]
  },
  {
   "cell_type": "code",
   "execution_count": null,
   "metadata": {},
   "outputs": [],
   "source": [
    "from dask.diagnostics import ProgressBar"
   ]
  },
  {
   "cell_type": "code",
   "execution_count": null,
   "metadata": {},
   "outputs": [],
   "source": [
    "with model, ProgressBar():\n",
    "    ds_sensitivity = (\n",
    "        ds_in\n",
    "        .xsimlab.update_vars(\n",
    "            input_vars={'flow__slope_exp': ('batch', [0, 0.5, 1, 3, 5])}\n",
    "        )\n",
    "        .xsimlab.run(batch_dim='batch', parallel=True, store='sensitivity.zarr', scheduler='processes')\n",
    "        .swap_dims({'batch': 'flow__slope_exp'})\n",
    "    )"
   ]
  },
  {
   "cell_type": "code",
   "execution_count": null,
   "metadata": {},
   "outputs": [],
   "source": [
    "ds_sensitivity"
   ]
  },
  {
   "cell_type": "code",
   "execution_count": null,
   "metadata": {},
   "outputs": [],
   "source": [
    "log_area = np.log(ds_sensitivity.drainage__area)\n",
    "\n",
    "log_area.hvplot.image(x='x', y='y', groupby=['flow__slope_exp', 'out'], cmap='Blues', data_aspect=1)"
   ]
  },
  {
   "cell_type": "markdown",
   "metadata": {},
   "source": [
    "## Model customization (adding a new process)"
   ]
  },
  {
   "cell_type": "code",
   "execution_count": null,
   "metadata": {},
   "outputs": [],
   "source": [
    "from fastscape.processes import DifferentialStreamPowerChannelTD\n",
    "\n",
    "\n",
    "@xs.process\n",
    "class ClimateChange:\n",
    "    \"\"\"Sudden change in erosion efficiency.\"\"\"\n",
    "    \n",
    "    time = xs.variable(description='time when the change occurs')\n",
    "    \n",
    "    k_soil = xs.foreign(DifferentialStreamPowerChannelTD, 'k_coef_soil', intent='out')\n",
    "    k_bedrock = xs.foreign(DifferentialStreamPowerChannelTD, 'k_coef_bedrock', intent='out')\n",
    "    \n",
    "    def initialize(self):\n",
    "        self.changed = False\n",
    "        self.k_soil = self.k_bedrock = 3e-5\n",
    "        \n",
    "    @xs.runtime(args='step_start')\n",
    "    def run_step(self, t):\n",
    "        if not self.changed and t >= self.time:\n",
    "            self.k_soil = self.k_bedrock = 1e-4\n",
    "            self.changed = True\n",
    "\n"
   ]
  },
  {
   "cell_type": "code",
   "execution_count": null,
   "metadata": {},
   "outputs": [],
   "source": [
    "new_model = model.update_processes({'climate_change': ClimateChange})"
   ]
  },
  {
   "cell_type": "code",
   "execution_count": null,
   "metadata": {},
   "outputs": [],
   "source": [
    "with new_model, xs.monitoring.ProgressBar():\n",
    "    ds_clim_change = (\n",
    "        ds_in\n",
    "        .xsimlab.update_vars(\n",
    "            input_vars={'climate_change__time': 2e5}\n",
    "        )\n",
    "        .xsimlab.run()\n",
    "    )"
   ]
  },
  {
   "cell_type": "code",
   "execution_count": null,
   "metadata": {},
   "outputs": [],
   "source": [
    "ds_clim_change.erosion__rate.hvplot.image(\n",
    "    x='x', y='y', groupby='out', cmap='RdYlGn', data_aspect=1,\n",
    "    widget_type='scrubber', widget_location='bottom', clim=(-5e-3, 5e-3)\n",
    ")"
   ]
  },
  {
   "cell_type": "code",
   "execution_count": null,
   "metadata": {},
   "outputs": [],
   "source": []
  }
 ],
 "metadata": {
  "kernelspec": {
   "display_name": "Python 3",
   "language": "python",
   "name": "python3"
  },
  "language_info": {
   "codemirror_mode": {
    "name": "ipython",
    "version": 3
   },
   "file_extension": ".py",
   "mimetype": "text/x-python",
   "name": "python",
   "nbconvert_exporter": "python",
   "pygments_lexer": "ipython3",
   "version": "3.6.7"
  }
 },
 "nbformat": 4,
 "nbformat_minor": 4
}
